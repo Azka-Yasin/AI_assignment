{
 "cells": [
  {
   "cell_type": "code",
   "execution_count": null,
   "id": "65e31cb1",
   "metadata": {},
   "outputs": [],
   "source": [
    "#import libraries\n",
    "import numpy as np\n",
    "import pandas as pd\n",
    "import keras\n",
    "\n",
    "from sklearn.preprocessing import StandardScaler\n",
    "from sklearn.model_selection import train_test_split\n",
    "from sklearn import metrics\n",
    "from sklearn.metrics import accuracy_score, f1_score, confusion_matrix, precision_score, recall_score\n",
    "\n",
    "from keras.models import Sequential\n",
    "from keras.layers import Dense, Activation\n",
    "from keras.optimizers import Adam\n"
   ]
  },
  {
   "cell_type": "code",
   "execution_count": null,
   "id": "263571ad",
   "metadata": {},
   "outputs": [],
   "source": [
    "import seaborn as sns\n",
    "import matplotlib.pyplot as plt"
   ]
  },
  {
   "cell_type": "code",
   "execution_count": null,
   "id": "4472c699",
   "metadata": {},
   "outputs": [],
   "source": [
    "#read the train data\n",
    "train_data=pd.read_csv(r'C:\\Users\\96891\\OneDrive\\Documents\\sonia\\smoke_detection_iot.csv')"
   ]
  },
  {
   "cell_type": "code",
   "execution_count": null,
   "id": "89925db1",
   "metadata": {},
   "outputs": [],
   "source": [
    "#print the data\n",
    "train_data.head()"
   ]
  },
  {
   "cell_type": "code",
   "execution_count": null,
   "id": "f8029d0e",
   "metadata": {},
   "outputs": [],
   "source": [
    "#dropping unnecessary columns\n",
    "train_data.drop(['Unnamed: 0', 'UTC', 'CNT'], axis=1, inplace=True)"
   ]
  },
  {
   "cell_type": "code",
   "execution_count": null,
   "id": "d8340871",
   "metadata": {},
   "outputs": [],
   "source": [
    "#check updated data\n",
    "train_data.head()"
   ]
  },
  {
   "cell_type": "code",
   "execution_count": null,
   "id": "c2f6e59f",
   "metadata": {},
   "outputs": [],
   "source": [
    "#data pre-proccessing\n",
    "#splitting the dependent and independent variable\n",
    "x=train_data.drop('Fire Alarm', axis=1)\n",
    "y=train_data['Fire Alarm']"
   ]
  },
  {
   "cell_type": "code",
   "execution_count": null,
   "id": "cb532a0d",
   "metadata": {},
   "outputs": [],
   "source": [
    "#splitting the data into training and testing sets\n",
    "X_train, X_test, Y_train, Y_test= train_test_split(x,y,test_size=0.3,random_state=0)\n",
    "#random_state=0, we get the same train and test sets accross different executions"
   ]
  },
  {
   "cell_type": "code",
   "execution_count": null,
   "id": "59a4927c",
   "metadata": {},
   "outputs": [],
   "source": [
    "#print the dimensions of the train and test data\n",
    "print(X_train.shape)\n",
    "print(Y_train.shape)\n",
    "print(X_test.shape)\n",
    "print(Y_test.shape)"
   ]
  },
  {
   "cell_type": "code",
   "execution_count": null,
   "id": "8003460b",
   "metadata": {},
   "outputs": [],
   "source": [
    "# the scale of each feature is very different, so we need to bring all of them to the same scale.\n",
    "ss= StandardScaler()\n",
    "X_train=ss.fit_transform(X_train)\n",
    "X_test= ss.transform(X_test)"
   ]
  },
  {
   "cell_type": "code",
   "execution_count": null,
   "id": "d771b88a",
   "metadata": {},
   "outputs": [],
   "source": [
    "#class distribution\n",
    "#check if the target classes are balanced\n",
    "sns.countplot(x = Y_train)\n",
    "plt.text(x = 0 - 0.1, y = Y_train.value_counts()[0] + 500, s = Y_train.value_counts()[0])\n",
    "plt.text(x = 1 - 0.1, y = Y_train.value_counts()[1] + 500, s = Y_train.value_counts()[1])\n",
    "plt.xticks([0, 1], ['No Alarm', 'Alarm'])\n",
    "plt.ylabel('Count')\n",
    "plt.tight_layout(pad = -1)\n",
    "plt.title('Class Imbalance', fontsize = 15)\n",
    "plt.show()"
   ]
  },
  {
   "cell_type": "code",
   "execution_count": null,
   "id": "3fe577ac",
   "metadata": {},
   "outputs": [],
   "source": [
    "pip install imblearn"
   ]
  },
  {
   "cell_type": "code",
   "execution_count": null,
   "id": "130be4f4",
   "metadata": {},
   "outputs": [],
   "source": [
    "#data is highly biased, will result in a biased model\n",
    "#solution:Synthetic Minority Over-sampling Technique\n",
    "from imblearn.over_sampling import SMOTE\n",
    "\n",
    "smote = SMOTE(random_state = 10) \n",
    "X_train, Y_train = smote.fit_resample(X_train, Y_train)"
   ]
  },
  {
   "cell_type": "code",
   "execution_count": null,
   "id": "9a5a0455",
   "metadata": {},
   "outputs": [],
   "source": [
    "#check classes again\n",
    "sns.countplot(x = Y_train)\n",
    "plt.text(x = 0 - 0.1, y = Y_train.value_counts()[0] + 500, s = Y_train.value_counts()[0])\n",
    "plt.text(x = 1 - 0.1, y = Y_train.value_counts()[1] + 500, s = Y_train.value_counts()[1])\n",
    "plt.xticks([0, 1], ['No Alarm', 'Alarm'])\n",
    "plt.ylabel('Count')\n",
    "plt.tight_layout(pad = -1)\n",
    "plt.title('Class Imbalance', fontsize = 15)\n",
    "plt.show()"
   ]
  },
  {
   "cell_type": "code",
   "execution_count": null,
   "id": "19569c90",
   "metadata": {},
   "outputs": [],
   "source": [
    "#now that the data is balanced, we can build the model\n",
    "#Dense Neural Network\n",
    "#Model Architecture\n",
    "model=Sequential([\n",
    "    Dense(units=32, activation='relu',input_shape=(12,),name=\"Layer1\"),\n",
    "    Dense(units=64,activation='relu',name=\"Layer2\"),\n",
    "    Dense(units=128, activation='relu', name=\"Layer3\"),\n",
    "    Dense(units=1, activation='sigmoid', name=\"Output\")\n",
    "])\n",
    "#relu activation function is used in the hidden layers and sigmoid activation function is used in the output layer"
   ]
  },
  {
   "cell_type": "code",
   "execution_count": null,
   "id": "2d04e0a6",
   "metadata": {},
   "outputs": [],
   "source": [
    "#before training, we must compile the model\n",
    "model.compile(loss='binary_crossentropy', optimizer= 'Adam', metrics=['accuracy'])"
   ]
  },
  {
   "cell_type": "code",
   "execution_count": null,
   "id": "76ee8e27",
   "metadata": {},
   "outputs": [],
   "source": [
    "#fit the model\n",
    "model.fit(X_train, Y_train, validation_split=0.1, batch_size=10, epochs=10, shuffle=True, verbose=2)"
   ]
  },
  {
   "cell_type": "code",
   "execution_count": null,
   "id": "554398db",
   "metadata": {},
   "outputs": [],
   "source": [
    "#evaluate the model on testing data\n",
    "model.evaluate(X_test,Y_test)"
   ]
  },
  {
   "cell_type": "code",
   "execution_count": null,
   "id": "f2d73f7e",
   "metadata": {},
   "outputs": [],
   "source": [
    "Y_true,Y_pred=Y_test, np.round(model.predict(X_test))"
   ]
  },
  {
   "cell_type": "code",
   "execution_count": null,
   "id": "419a1845",
   "metadata": {},
   "outputs": [],
   "source": [
    "#calculate\n",
    "f1=f1_score(Y_true, Y_pred)\n",
    "acc=accuracy_score(Y_true, Y_pred)\n",
    "precision=precision_score(Y_true, Y_pred)\n",
    "recall=recall_score(Y_true, Y_pred)\n",
    "cm=confusion_matrix(Y_true, Y_pred)"
   ]
  },
  {
   "cell_type": "code",
   "execution_count": null,
   "id": "d154084d",
   "metadata": {},
   "outputs": [],
   "source": [
    "#print\n",
    "print(f\"F1 Score : {f1}\\n\")\n",
    "print(f\"Accuracy : {acc}\\n\")\n",
    "print(f\"Precision : {precision}\\n\")\n",
    "print(f\"Recall : {recall}\\n\")\n",
    "print(f\"Confusion Matrix : {cm}\\n\")"
   ]
  },
  {
   "cell_type": "code",
   "execution_count": null,
   "id": "7ae9f358",
   "metadata": {},
   "outputs": [],
   "source": [
    "TN=cm[0][0]\n",
    "FN=cm[1][0]\n",
    "FP=cm[0][1]\n",
    "TP=cm[1][1]"
   ]
  },
  {
   "cell_type": "code",
   "execution_count": null,
   "id": "a31e52da",
   "metadata": {},
   "outputs": [],
   "source": [
    "print (\"True Positive= \", TP)\n",
    "print (\"True Negative= \", TN)\n",
    "print (\"False Positive= \", FP)\n",
    "print (\"False Negative= \", FN)"
   ]
  },
  {
   "cell_type": "code",
   "execution_count": null,
   "id": "5647debd",
   "metadata": {},
   "outputs": [],
   "source": [
    "#specificity\n",
    "print (\"Specifity=\", TN/(TN+FP))"
   ]
  },
  {
   "cell_type": "code",
   "execution_count": null,
   "id": "92717188",
   "metadata": {},
   "outputs": [],
   "source": [
    "#sensitivity\n",
    "print (\"Sensitivity=\", TP/(TP+FN))"
   ]
  },
  {
   "cell_type": "code",
   "execution_count": null,
   "id": "a9fcb5cc",
   "metadata": {},
   "outputs": [],
   "source": [
    "#print classification report\n",
    "from sklearn.metrics import classification_report\n",
    "print (classification_report (Y_true, Y_pred))"
   ]
  },
  {
   "cell_type": "code",
   "execution_count": null,
   "id": "13598df5",
   "metadata": {},
   "outputs": [],
   "source": []
  }
 ],
 "metadata": {
  "kernelspec": {
   "display_name": "Python 3 (ipykernel)",
   "language": "python",
   "name": "python3"
  },
  "language_info": {
   "codemirror_mode": {
    "name": "ipython",
    "version": 3
   },
   "file_extension": ".py",
   "mimetype": "text/x-python",
   "name": "python",
   "nbconvert_exporter": "python",
   "pygments_lexer": "ipython3",
   "version": "3.9.13"
  }
 },
 "nbformat": 4,
 "nbformat_minor": 5
}
